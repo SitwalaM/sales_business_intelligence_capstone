{
 "cells": [
  {
   "cell_type": "markdown",
   "metadata": {},
   "source": [
    "# Sales Analytics: Business Intelligence Capstone Project"
   ]
  },
  {
   "cell_type": "markdown",
   "metadata": {},
   "source": [
    "## Introduction\n",
    "\n",
    "The project presented is an extension of the twist challenge project [](). The objective of the project is to implement a business intelligence pipeline for a small shop which gives the shop owner insights that can drive actionable insights. The main components of the project are;\n",
    "\n",
    "### 1. Sales Forescasting\n",
    "\n",
    "A sales forecasting model using Prophet is implemented to help the client (shop owner) plan for the month. The model is currently implementing a 7-day forecast as only 13 months of data is demonstrated here.\n",
    "\n",
    "### 2. Customer Segmentation\n",
    "\n",
    "Clustering is implemented using Recency, Frequency and Monetary value of each customer. The segmentation allows for the shop owner to target specific customers for promotions and retention calls.\n",
    "\n",
    "### 3. Customer Growth Budget\n",
    "\n",
    "The customer growth budget tracks the growth of customers and classifies them into the following categories;\n",
    "* New: First time visitors\n",
    "* Churned: Customers who haven't visited for 2 months consecutively (defined by the client)\n",
    "* Regained: Previously churned customers who have visited the shop again.\n",
    "\n",
    "Growth budget is typically used in subscription based services but it can be a powerful insight in this scenario as salons have a database of regular visitors who can be treated as subcribers for analysis purposes.\n",
    "\n",
    "### 4. Cloud Implementation and Orchestration\n",
    "\n",
    "The implementation is planned for deployment completely in the cloud. A MySQL server was setup on and Amazon EC2. Apache Airflow is used for the pipeling orchestration with a daily interval. Currently, the extraction of the data is not done from the client premises. For demonstration purposes, the front-end application allows for the client to upload the latest sales data. Orchestraion is demonstrated on a Desktop PC in a completely virtual environment which can be deployed on the Amazon EC2- The t2.micro EC2 used for the project demonstration does not have enough capacity to install Prophet.\n",
    "\n",
    "\n",
    "\n"
   ]
  },
  {
   "cell_type": "markdown",
   "metadata": {},
   "source": [
    "## Software\n",
    "\n",
    "This section gives an overview of the main functions used in the pipeline. Functions will be imported into the notebook as the pipeline was refactored for easy deployment\n"
   ]
  },
  {
   "cell_type": "code",
   "execution_count": 14,
   "metadata": {},
   "outputs": [],
   "source": [
    "%%capture\n",
    "### Library Imports\n",
    "\n",
    "\n",
    "import pandas as pd\n",
    "from datetime import datetime as dt\n",
    "from datetime import date,  timedelta\n",
    "import s3fs\n",
    "import configparser\n",
    "\n",
    "# main modules used in streamlit app and airflow orchestration\n",
    "\n",
    "from scripts.growth_budget import  *        \n",
    "from streamlit.app_utilities import *\n",
    "from scripts.analytics_modules import *\n",
    "\n"
   ]
  },
  {
   "cell_type": "code",
   "execution_count": 13,
   "metadata": {},
   "outputs": [
    {
     "data": {
      "text/html": [
       "<div>\n",
       "<style scoped>\n",
       "    .dataframe tbody tr th:only-of-type {\n",
       "        vertical-align: middle;\n",
       "    }\n",
       "\n",
       "    .dataframe tbody tr th {\n",
       "        vertical-align: top;\n",
       "    }\n",
       "\n",
       "    .dataframe thead th {\n",
       "        text-align: right;\n",
       "    }\n",
       "</style>\n",
       "<table border=\"1\" class=\"dataframe\">\n",
       "  <thead>\n",
       "    <tr style=\"text-align: right;\">\n",
       "      <th></th>\n",
       "      <th>Unnamed: 0</th>\n",
       "      <th>Date</th>\n",
       "      <th>Customer</th>\n",
       "      <th>Total</th>\n",
       "    </tr>\n",
       "  </thead>\n",
       "  <tbody>\n",
       "    <tr>\n",
       "      <th>0</th>\n",
       "      <td>0</td>\n",
       "      <td>2020-01</td>\n",
       "      <td>aea36f18ab8d7887628db66b6635d59ba348c4843e9519...</td>\n",
       "      <td>2.0</td>\n",
       "    </tr>\n",
       "    <tr>\n",
       "      <th>1</th>\n",
       "      <td>1</td>\n",
       "      <td>2020-01</td>\n",
       "      <td>0b5687f202fcf98d01c9bd071996b3f8066f70b4e16a49...</td>\n",
       "      <td>5.0</td>\n",
       "    </tr>\n",
       "    <tr>\n",
       "      <th>2</th>\n",
       "      <td>2</td>\n",
       "      <td>2020-01</td>\n",
       "      <td>fd7182047b43bfd58dcd1c9ccc55c889c9e862f89127df...</td>\n",
       "      <td>6.0</td>\n",
       "    </tr>\n",
       "    <tr>\n",
       "      <th>3</th>\n",
       "      <td>3</td>\n",
       "      <td>2020-01</td>\n",
       "      <td>58873afabbba45d3ee3b67e013f1f2be1b5a894f554ae6...</td>\n",
       "      <td>6.0</td>\n",
       "    </tr>\n",
       "    <tr>\n",
       "      <th>4</th>\n",
       "      <td>4</td>\n",
       "      <td>2020-01</td>\n",
       "      <td>a302152f779f5db64b74e2258525687738e050a704754f...</td>\n",
       "      <td>20.0</td>\n",
       "    </tr>\n",
       "  </tbody>\n",
       "</table>\n",
       "</div>"
      ],
      "text/plain": [
       "   Unnamed: 0     Date                                           Customer  \\\n",
       "0           0  2020-01  aea36f18ab8d7887628db66b6635d59ba348c4843e9519...   \n",
       "1           1  2020-01  0b5687f202fcf98d01c9bd071996b3f8066f70b4e16a49...   \n",
       "2           2  2020-01  fd7182047b43bfd58dcd1c9ccc55c889c9e862f89127df...   \n",
       "3           3  2020-01  58873afabbba45d3ee3b67e013f1f2be1b5a894f554ae6...   \n",
       "4           4  2020-01  a302152f779f5db64b74e2258525687738e050a704754f...   \n",
       "\n",
       "   Total  \n",
       "0    2.0  \n",
       "1    5.0  \n",
       "2    6.0  \n",
       "3    6.0  \n",
       "4   20.0  "
      ]
     },
     "execution_count": 13,
     "metadata": {},
     "output_type": "execute_result"
    }
   ],
   "source": [
    "# download latest dataset from S3 Bucket\n",
    "\n",
    "file = str(date.today()) + \".csv\"\n",
    "config = configparser.ConfigParser()\n",
    "\n",
    " # pass credentials for s3\n",
    "config.read(\"scripts/credentials.ini\")  \n",
    "key = config[\"aws\"][\"AWS_ACCESS_KEY_ID\"]\n",
    "secret = config[\"aws\"][\"AWS_SECRET_ACCESS_KEY\"]\n",
    "\n",
    "\n",
    "s3 = s3fs.S3FileSystem(anon=False, key=key, secret=secret)\n",
    "customer_data = pd.read_csv('s3://salonanalytics/'+file)\n",
    "customer_data.head()"
   ]
  },
  {
   "cell_type": "code",
   "execution_count": 15,
   "metadata": {},
   "outputs": [],
   "source": [
    "# fixes error in initial dataset due to wrong date formats\n",
    "customer_data['Date']=pd.to_datetime(customer_data['Date'].astype(str))\n",
    "customer_data = customer_data[customer_data['Date']> \"2020-09-30\"]"
   ]
  },
  {
   "cell_type": "markdown",
   "metadata": {},
   "source": [
    "### Sales Time-Series by Month"
   ]
  },
  {
   "cell_type": "code",
   "execution_count": 16,
   "metadata": {},
   "outputs": [
    {
     "data": {
      "text/html": [
       "<div>\n",
       "<style scoped>\n",
       "    .dataframe tbody tr th:only-of-type {\n",
       "        vertical-align: middle;\n",
       "    }\n",
       "\n",
       "    .dataframe tbody tr th {\n",
       "        vertical-align: top;\n",
       "    }\n",
       "\n",
       "    .dataframe thead th {\n",
       "        text-align: right;\n",
       "    }\n",
       "</style>\n",
       "<table border=\"1\" class=\"dataframe\">\n",
       "  <thead>\n",
       "    <tr style=\"text-align: right;\">\n",
       "      <th></th>\n",
       "      <th>Total</th>\n",
       "    </tr>\n",
       "    <tr>\n",
       "      <th>month-year</th>\n",
       "      <th></th>\n",
       "    </tr>\n",
       "  </thead>\n",
       "  <tbody>\n",
       "    <tr>\n",
       "      <th>2020-10</th>\n",
       "      <td>7947.4</td>\n",
       "    </tr>\n",
       "    <tr>\n",
       "      <th>2020-11</th>\n",
       "      <td>6858.6</td>\n",
       "    </tr>\n",
       "    <tr>\n",
       "      <th>2020-12</th>\n",
       "      <td>7709.6</td>\n",
       "    </tr>\n",
       "    <tr>\n",
       "      <th>2021-01</th>\n",
       "      <td>6683.8</td>\n",
       "    </tr>\n",
       "    <tr>\n",
       "      <th>2021-02</th>\n",
       "      <td>6309.4</td>\n",
       "    </tr>\n",
       "  </tbody>\n",
       "</table>\n",
       "</div>"
      ],
      "text/plain": [
       "             Total\n",
       "month-year        \n",
       "2020-10     7947.4\n",
       "2020-11     6858.6\n",
       "2020-12     7709.6\n",
       "2021-01     6683.8\n",
       "2021-02     6309.4"
      ]
     },
     "execution_count": 16,
     "metadata": {},
     "output_type": "execute_result"
    }
   ],
   "source": [
    "grouped_month_df = group_by_month(customer_data)\n",
    "grouped_month_df.head()"
   ]
  },
  {
   "cell_type": "code",
   "execution_count": 17,
   "metadata": {},
   "outputs": [
    {
     "data": {
      "text/plain": [
       "<AxesSubplot:xlabel='month-year'>"
      ]
     },
     "execution_count": 17,
     "metadata": {},
     "output_type": "execute_result"
    },
    {
     "data": {
      "image/png": "[encoded data removed]",
      "text/plain": [
       "<Figure size 432x288 with 1 Axes>"
      ]
     },
     "metadata": {
      "needs_background": "light"
     },
     "output_type": "display_data"
    }
   ],
   "source": [
    "grouped_month_df.plot()"
   ]
  }
 ],
 "metadata": {
  "interpreter": {
   "hash": "5ee1cce4984ba677abd6ef335298444959ac0d4a98eccabdf2bb18fefb48f2ac"
  },
  "kernelspec": {
   "display_name": "Python 3.8.10 ('capstone_env': venv)",
   "language": "python",
   "name": "python3"
  },
  "language_info": {
   "codemirror_mode": {
    "name": "ipython",
    "version": 3
   },
   "file_extension": ".py",
   "mimetype": "text/x-python",
   "name": "python",
   "nbconvert_exporter": "python",
   "pygments_lexer": "ipython3",
   "version": "3.8.10"
  },
  "orig_nbformat": 4
 },
 "nbformat": 4,
 "nbformat_minor": 2
}
